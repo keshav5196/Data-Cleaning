{
  "nbformat": 4,
  "nbformat_minor": 0,
  "metadata": {
    "colab": {
      "name": "Property Data.ipynb",
      "provenance": [],
      "collapsed_sections": []
    },
    "kernelspec": {
      "name": "python3",
      "display_name": "Python 3"
    }
  },
  "cells": [
    {
      "cell_type": "code",
      "metadata": {
        "id": "qMjkq_2VoVLp",
        "colab_type": "code",
        "colab": {
          "base_uri": "https://localhost:8080/",
          "height": 122
        },
        "outputId": "9b04f077-7c9d-4043-b0e8-08b6f91ef8b2"
      },
      "source": [
        "from google.colab import drive\n",
        "drive.mount('/content/drive')"
      ],
      "execution_count": 1,
      "outputs": [
        {
          "output_type": "stream",
          "text": [
            "Go to this URL in a browser: https://accounts.google.com/o/oauth2/auth?client_id=947318989803-6bn6qk8qdgf4n4g3pfee6491hc0brc4i.apps.googleusercontent.com&redirect_uri=urn%3Aietf%3Awg%3Aoauth%3A2.0%3Aoob&scope=email%20https%3A%2F%2Fwww.googleapis.com%2Fauth%2Fdocs.test%20https%3A%2F%2Fwww.googleapis.com%2Fauth%2Fdrive%20https%3A%2F%2Fwww.googleapis.com%2Fauth%2Fdrive.photos.readonly%20https%3A%2F%2Fwww.googleapis.com%2Fauth%2Fpeopleapi.readonly&response_type=code\n",
            "\n",
            "Enter your authorization code:\n",
            "··········\n",
            "Mounted at /content/drive\n"
          ],
          "name": "stdout"
        }
      ]
    },
    {
      "cell_type": "code",
      "metadata": {
        "id": "6uJSQGfAoVzQ",
        "colab_type": "code",
        "colab": {}
      },
      "source": [
        "import pandas as pd\n",
        "import numpy as np "
      ],
      "execution_count": 0,
      "outputs": []
    },
    {
      "cell_type": "code",
      "metadata": {
        "id": "FpvsxX82oiW7",
        "colab_type": "code",
        "colab": {}
      },
      "source": [
        "df_raw = pd.read_csv('/content/drive/My Drive/data cleaning with python and pandas/property data.csv')"
      ],
      "execution_count": 0,
      "outputs": []
    },
    {
      "cell_type": "code",
      "metadata": {
        "id": "atljQct9opG-",
        "colab_type": "code",
        "colab": {
          "base_uri": "https://localhost:8080/",
          "height": 204
        },
        "outputId": "18d2d19c-111e-4d42-e854-f6e1c1543ed8"
      },
      "source": [
        "df_raw.head()"
      ],
      "execution_count": 4,
      "outputs": [
        {
          "output_type": "execute_result",
          "data": {
            "text/html": [
              "<div>\n",
              "<style scoped>\n",
              "    .dataframe tbody tr th:only-of-type {\n",
              "        vertical-align: middle;\n",
              "    }\n",
              "\n",
              "    .dataframe tbody tr th {\n",
              "        vertical-align: top;\n",
              "    }\n",
              "\n",
              "    .dataframe thead th {\n",
              "        text-align: right;\n",
              "    }\n",
              "</style>\n",
              "<table border=\"1\" class=\"dataframe\">\n",
              "  <thead>\n",
              "    <tr style=\"text-align: right;\">\n",
              "      <th></th>\n",
              "      <th>PID</th>\n",
              "      <th>ST_NUM</th>\n",
              "      <th>ST_NAME</th>\n",
              "      <th>OWN_OCCUPIED</th>\n",
              "      <th>NUM_BEDROOMS</th>\n",
              "      <th>NUM_BATH</th>\n",
              "      <th>SQ_FT</th>\n",
              "    </tr>\n",
              "  </thead>\n",
              "  <tbody>\n",
              "    <tr>\n",
              "      <th>0</th>\n",
              "      <td>100001000.0</td>\n",
              "      <td>104.0</td>\n",
              "      <td>PUTNAM</td>\n",
              "      <td>Y</td>\n",
              "      <td>3</td>\n",
              "      <td>1</td>\n",
              "      <td>1000</td>\n",
              "    </tr>\n",
              "    <tr>\n",
              "      <th>1</th>\n",
              "      <td>100002000.0</td>\n",
              "      <td>197.0</td>\n",
              "      <td>LEXINGTON</td>\n",
              "      <td>N</td>\n",
              "      <td>3</td>\n",
              "      <td>1.5</td>\n",
              "      <td>--</td>\n",
              "    </tr>\n",
              "    <tr>\n",
              "      <th>2</th>\n",
              "      <td>100003000.0</td>\n",
              "      <td>NaN</td>\n",
              "      <td>LEXINGTON</td>\n",
              "      <td>N</td>\n",
              "      <td>NaN</td>\n",
              "      <td>1</td>\n",
              "      <td>850</td>\n",
              "    </tr>\n",
              "    <tr>\n",
              "      <th>3</th>\n",
              "      <td>100004000.0</td>\n",
              "      <td>201.0</td>\n",
              "      <td>BERKELEY</td>\n",
              "      <td>12</td>\n",
              "      <td>1</td>\n",
              "      <td>NaN</td>\n",
              "      <td>700</td>\n",
              "    </tr>\n",
              "    <tr>\n",
              "      <th>4</th>\n",
              "      <td>NaN</td>\n",
              "      <td>203.0</td>\n",
              "      <td>BERKELEY</td>\n",
              "      <td>Y</td>\n",
              "      <td>3</td>\n",
              "      <td>2</td>\n",
              "      <td>1600</td>\n",
              "    </tr>\n",
              "  </tbody>\n",
              "</table>\n",
              "</div>"
            ],
            "text/plain": [
              "           PID  ST_NUM    ST_NAME OWN_OCCUPIED NUM_BEDROOMS NUM_BATH SQ_FT\n",
              "0  100001000.0   104.0     PUTNAM            Y            3        1  1000\n",
              "1  100002000.0   197.0  LEXINGTON            N            3      1.5    --\n",
              "2  100003000.0     NaN  LEXINGTON            N          NaN        1   850\n",
              "3  100004000.0   201.0   BERKELEY           12            1      NaN   700\n",
              "4          NaN   203.0   BERKELEY            Y            3        2  1600"
            ]
          },
          "metadata": {
            "tags": []
          },
          "execution_count": 4
        }
      ]
    },
    {
      "cell_type": "code",
      "metadata": {
        "id": "zTkyxJktosMm",
        "colab_type": "code",
        "colab": {}
      },
      "source": [
        "df_raw.drop('PID', axis=1, inplace=True)"
      ],
      "execution_count": 0,
      "outputs": []
    },
    {
      "cell_type": "markdown",
      "metadata": {
        "id": "dnGhZAlCpIBw",
        "colab_type": "text"
      },
      "source": [
        "**DATA Information:**\n",
        "\n",
        "\n",
        "*   ST_NUM: Street number\n",
        "\n",
        "*   ST_NAME: Street name\n",
        "\n",
        "*   OWN_OCCUPIED: Is the residence owner occupied\n",
        "\n",
        "*   NUM_BEDROOMS: Number of bedrooms\n",
        "\n",
        "\n"
      ]
    },
    {
      "cell_type": "code",
      "metadata": {
        "id": "fK8EABsbpBcR",
        "colab_type": "code",
        "colab": {
          "base_uri": "https://localhost:8080/",
          "height": 187
        },
        "outputId": "0100e547-261d-4b38-abc7-35e696f519ac"
      },
      "source": [
        "df_raw['NUM_BEDROOMS'].head(15)"
      ],
      "execution_count": 6,
      "outputs": [
        {
          "output_type": "execute_result",
          "data": {
            "text/plain": [
              "0      3\n",
              "1      3\n",
              "2    NaN\n",
              "3      1\n",
              "4      3\n",
              "5    NaN\n",
              "6      2\n",
              "7      1\n",
              "8     na\n",
              "Name: NUM_BEDROOMS, dtype: object"
            ]
          },
          "metadata": {
            "tags": []
          },
          "execution_count": 6
        }
      ]
    },
    {
      "cell_type": "markdown",
      "metadata": {
        "id": "QIEn2bL-py39",
        "colab_type": "text"
      },
      "source": [
        "Here we can see that this column has some non-standard NaN values."
      ]
    },
    {
      "cell_type": "code",
      "metadata": {
        "id": "Rf_MHi0HpwVo",
        "colab_type": "code",
        "colab": {}
      },
      "source": [
        "missing_values = ['na', 'n/a', '--']\n",
        "df_train = pd.read_csv('/content/drive/My Drive/data cleaning with python and pandas/property data.csv', na_values=missing_values)"
      ],
      "execution_count": 0,
      "outputs": []
    },
    {
      "cell_type": "code",
      "metadata": {
        "id": "1ba3NSKKqFUu",
        "colab_type": "code",
        "colab": {
          "base_uri": "https://localhost:8080/",
          "height": 221
        },
        "outputId": "915221ee-4039-4e02-870a-fa20ebbf30d1"
      },
      "source": [
        "df_train.info()"
      ],
      "execution_count": 9,
      "outputs": [
        {
          "output_type": "stream",
          "text": [
            "<class 'pandas.core.frame.DataFrame'>\n",
            "RangeIndex: 9 entries, 0 to 8\n",
            "Data columns (total 7 columns):\n",
            "PID             8 non-null float64\n",
            "ST_NUM          7 non-null float64\n",
            "ST_NAME         9 non-null object\n",
            "OWN_OCCUPIED    8 non-null object\n",
            "NUM_BEDROOMS    6 non-null float64\n",
            "NUM_BATH        8 non-null object\n",
            "SQ_FT           7 non-null float64\n",
            "dtypes: float64(4), object(3)\n",
            "memory usage: 584.0+ bytes\n"
          ],
          "name": "stdout"
        }
      ]
    },
    {
      "cell_type": "markdown",
      "metadata": {
        "id": "0X-DQEZMkPBZ",
        "colab_type": "text"
      },
      "source": [
        "##Unexpected ssing Values"
      ]
    },
    {
      "cell_type": "code",
      "metadata": {
        "id": "6GX6W_RJqS7-",
        "colab_type": "code",
        "colab": {
          "base_uri": "https://localhost:8080/",
          "height": 34
        },
        "outputId": "594730f0-9fa0-4ebc-92d7-613abee27711"
      },
      "source": [
        "df_train['OWN_OCCUPIED'].values"
      ],
      "execution_count": 10,
      "outputs": [
        {
          "output_type": "execute_result",
          "data": {
            "text/plain": [
              "array(['Y', 'N', 'N', '12', 'Y', 'Y', nan, 'Y', 'Y'], dtype=object)"
            ]
          },
          "metadata": {
            "tags": []
          },
          "execution_count": 10
        }
      ]
    },
    {
      "cell_type": "markdown",
      "metadata": {
        "id": "MV18ebdKkwgn",
        "colab_type": "text"
      },
      "source": [
        "Here we see a value of **'12'**, which is unexpected. We have to deal with this problem.\n",
        "\n",
        "This example is a little more complicated so we’ll need to think through a strategy for detecting these types of missing values. There’s a number of different approaches, but here’s the way that I’m going to work through this one:\n",
        "\n",
        "\n",
        "*   Loop through the OWN_OCCUPIED column.\n",
        "\n",
        "*   Try and turn the entry into an integer.\n",
        "\n",
        "*   If the entry can be changed into an integer, enter a missing value.\n",
        "\n",
        "*   If the number can’t be an integer, we know it’s a string, so keep going.\n",
        "\n"
      ]
    },
    {
      "cell_type": "code",
      "metadata": {
        "id": "-ORUz1egkugt",
        "colab_type": "code",
        "colab": {}
      },
      "source": [
        "count = 0\n",
        "\n",
        "for row in df_train['OWN_OCCUPIED']:\n",
        "  try:\n",
        "    int(row)\n",
        "    df_train.loc[count, 'OWN_OCCUPIED'] = np.NaN\n",
        "  except ValueError:\n",
        "    pass\n",
        "  count+=1"
      ],
      "execution_count": 0,
      "outputs": []
    },
    {
      "cell_type": "code",
      "metadata": {
        "id": "Lr32OioelbIt",
        "colab_type": "code",
        "colab": {
          "base_uri": "https://localhost:8080/",
          "height": 153
        },
        "outputId": "b7c49962-0f45-46d6-b2a6-7d312cc10809"
      },
      "source": [
        "df_train.isnull().sum()"
      ],
      "execution_count": 14,
      "outputs": [
        {
          "output_type": "execute_result",
          "data": {
            "text/plain": [
              "PID             1\n",
              "ST_NUM          2\n",
              "ST_NAME         0\n",
              "OWN_OCCUPIED    2\n",
              "NUM_BEDROOMS    3\n",
              "NUM_BATH        1\n",
              "SQ_FT           2\n",
              "dtype: int64"
            ]
          },
          "metadata": {
            "tags": []
          },
          "execution_count": 14
        }
      ]
    },
    {
      "cell_type": "markdown",
      "metadata": {
        "id": "vh8fnECDmKIl",
        "colab_type": "text"
      },
      "source": [
        "The column **OWN_OCCUPIED** has 2 null values rahter than one from before.\n",
        "\n",
        "Now that we’ve summarized the number of missing values, let’s take a look at doing some simple replacements."
      ]
    },
    {
      "cell_type": "markdown",
      "metadata": {
        "id": "BQ9Vr3FKmzrq",
        "colab_type": "text"
      },
      "source": [
        "##Imputing the missing values"
      ]
    },
    {
      "cell_type": "code",
      "metadata": {
        "id": "zHAaY94SmH0C",
        "colab_type": "code",
        "colab": {}
      },
      "source": [
        "num_cols = [x for x in df_train.columns if df_train[x].dtype == 'float64']"
      ],
      "execution_count": 0,
      "outputs": []
    },
    {
      "cell_type": "code",
      "metadata": {
        "id": "wrJ7vFUanDHr",
        "colab_type": "code",
        "colab": {}
      },
      "source": [
        "cat_cols = [x for x in df_train.columns if x not in num_cols]"
      ],
      "execution_count": 0,
      "outputs": []
    },
    {
      "cell_type": "code",
      "metadata": {
        "id": "QI31Ks26owwf",
        "colab_type": "code",
        "colab": {
          "base_uri": "https://localhost:8080/",
          "height": 51
        },
        "outputId": "a60e743e-b7de-4432-ed91-f2b76d4b8302"
      },
      "source": [
        "print(num_cols)\n",
        "print(cat_cols)"
      ],
      "execution_count": 20,
      "outputs": [
        {
          "output_type": "stream",
          "text": [
            "['PID', 'ST_NUM', 'NUM_BEDROOMS', 'SQ_FT']\n",
            "['ST_NAME', 'OWN_OCCUPIED', 'NUM_BATH']\n"
          ],
          "name": "stdout"
        }
      ]
    },
    {
      "cell_type": "code",
      "metadata": {
        "id": "ZEt1xYHho0Gy",
        "colab_type": "code",
        "colab": {}
      },
      "source": [
        "from sklearn.impute import SimpleImputer\n",
        "\n",
        "for x in num_cols:\n",
        "  median = df_train[x].median()\n",
        "  df_train[x].fillna(median, inplace=True)\n",
        "\n",
        "for x in cat_cols:\n",
        "  df_train[x].fillna('NaN', inplace=True)"
      ],
      "execution_count": 0,
      "outputs": []
    },
    {
      "cell_type": "code",
      "metadata": {
        "id": "IcAWLhyOpa0g",
        "colab_type": "code",
        "colab": {
          "base_uri": "https://localhost:8080/",
          "height": 153
        },
        "outputId": "2c93cfea-08e7-449c-d2cf-a8fc89dde38c"
      },
      "source": [
        "df_train.isnull().sum()"
      ],
      "execution_count": 27,
      "outputs": [
        {
          "output_type": "execute_result",
          "data": {
            "text/plain": [
              "PID             0\n",
              "ST_NUM          0\n",
              "ST_NAME         0\n",
              "OWN_OCCUPIED    0\n",
              "NUM_BEDROOMS    0\n",
              "NUM_BATH        0\n",
              "SQ_FT           0\n",
              "dtype: int64"
            ]
          },
          "metadata": {
            "tags": []
          },
          "execution_count": 27
        }
      ]
    },
    {
      "cell_type": "markdown",
      "metadata": {
        "id": "gch7uPbTp8KB",
        "colab_type": "text"
      },
      "source": [
        "Here for categorical columns I have converted NaN values with string NaN. There are many ways to replace the missing values. This was one of them. We can replace values according to our problem in hand."
      ]
    }
  ]
}